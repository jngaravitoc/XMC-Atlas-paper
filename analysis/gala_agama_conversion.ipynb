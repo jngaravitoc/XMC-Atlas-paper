{
 "cells": [
  {
   "cell_type": "code",
   "execution_count": 1,
   "id": "05575de7",
   "metadata": {},
   "outputs": [
    {
     "name": "stdout",
     "output_type": "stream",
     "text": [
      "Populating the interactive namespace from numpy and matplotlib\n"
     ]
    }
   ],
   "source": [
    "%pylab inline\n",
    "import gala"
   ]
  },
  {
   "cell_type": "code",
   "execution_count": 5,
   "id": "509249aa",
   "metadata": {},
   "outputs": [],
   "source": [
    "data = '../vasiliev23/mwhalo000.ini'"
   ]
  },
  {
   "cell_type": "code",
   "execution_count": 8,
   "id": "1860f316",
   "metadata": {},
   "outputs": [],
   "source": [
    "coeffs_init = np.loadtxt(data, skiprows=10)\n"
   ]
  },
  {
   "cell_type": "code",
   "execution_count": 31,
   "id": "e505ff10",
   "metadata": {},
   "outputs": [
    {
     "data": {
      "text/plain": [
       "(21, 50)"
      ]
     },
     "execution_count": 31,
     "metadata": {},
     "output_type": "execute_result"
    }
   ],
   "source": [
    "np.shape(coeffs_init)\n",
    "## First column is n\n",
    "## The rest is the above combinations of l and m\n",
    "## Negative values are the cosines \n",
    "## Positive values are the sines"
   ]
  },
  {
   "cell_type": "code",
   "execution_count": 43,
   "id": "d8adf028",
   "metadata": {},
   "outputs": [
    {
     "name": "stdout",
     "output_type": "stream",
     "text": [
      "1 0 0\n",
      "2 1 -1\n",
      "3 1 0\n",
      "4 1 1\n",
      "5 2 -2\n",
      "6 2 -1\n",
      "7 2 0\n",
      "8 2 1\n",
      "9 2 2\n",
      "10 3 -3\n",
      "11 3 -2\n",
      "12 3 -1\n",
      "13 3 0\n",
      "14 3 1\n",
      "15 3 2\n",
      "16 3 3\n",
      "17 4 -4\n",
      "18 4 -3\n",
      "19 4 -2\n",
      "20 4 -1\n",
      "21 4 0\n",
      "22 4 1\n",
      "23 4 2\n",
      "24 4 3\n",
      "25 4 4\n",
      "26 5 -5\n",
      "27 5 -4\n",
      "28 5 -3\n",
      "29 5 -2\n",
      "30 5 -1\n",
      "31 5 0\n",
      "32 5 1\n",
      "33 5 2\n",
      "34 5 3\n",
      "35 5 4\n",
      "36 5 5\n",
      "37 6 -6\n",
      "38 6 -5\n",
      "39 6 -4\n",
      "40 6 -3\n",
      "41 6 -2\n",
      "42 6 -1\n",
      "43 6 0\n",
      "44 6 1\n",
      "45 6 2\n",
      "46 6 3\n",
      "47 6 4\n",
      "48 6 5\n",
      "49 6 6\n"
     ]
    }
   ],
   "source": [
    "j=1\n",
    "Sindex = []\n",
    "Tindex = []\n",
    "for l in range(7):\n",
    "    for m in range(-l, l+1):\n",
    "        print(j, l, m)\n",
    "        if m>=0:\n",
    "            Sindex.append(j-1)\n",
    "        if m<=0:\n",
    "            Tindex.append(j-1)\n",
    "        j+=1"
   ]
  },
  {
   "cell_type": "code",
   "execution_count": 32,
   "id": "1ab3c8fe",
   "metadata": {},
   "outputs": [
    {
     "data": {
      "text/plain": [
       "<matplotlib.image.AxesImage at 0x7fdc671724d0>"
      ]
     },
     "execution_count": 32,
     "metadata": {},
     "output_type": "execute_result"
    },
    {
     "data": {
      "image/png": "[encoded data removed]",
      "text/plain": [
       "<Figure size 432x288 with 1 Axes>"
      ]
     },
     "metadata": {
      "needs_background": "light"
     },
     "output_type": "display_data"
    }
   ],
   "source": [
    "plt.imshow(np.log10(np.abs(coeffs_init[:,1:]).T), origin='lower')"
   ]
  },
  {
   "cell_type": "code",
   "execution_count": 44,
   "id": "b65a4098",
   "metadata": {},
   "outputs": [
    {
     "name": "stdout",
     "output_type": "stream",
     "text": [
      "28 28\n"
     ]
    }
   ],
   "source": [
    "print(len(Sindex), len(Tindex))"
   ]
  },
  {
   "cell_type": "code",
   "execution_count": 42,
   "id": "56d257fa",
   "metadata": {},
   "outputs": [
    {
     "data": {
      "text/plain": [
       "[1,\n",
       " 2,\n",
       " 3,\n",
       " 5,\n",
       " 6,\n",
       " 7,\n",
       " 10,\n",
       " 11,\n",
       " 12,\n",
       " 13,\n",
       " 17,\n",
       " 18,\n",
       " 19,\n",
       " 20,\n",
       " 21,\n",
       " 26,\n",
       " 27,\n",
       " 28,\n",
       " 29,\n",
       " 30,\n",
       " 31,\n",
       " 37,\n",
       " 38,\n",
       " 39,\n",
       " 40,\n",
       " 41,\n",
       " 42,\n",
       " 43]"
      ]
     },
     "execution_count": 42,
     "metadata": {},
     "output_type": "execute_result"
    }
   ],
   "source": [
    "Tindex"
   ]
  },
  {
   "cell_type": "code",
   "execution_count": 64,
   "id": "6ffabb5f",
   "metadata": {},
   "outputs": [],
   "source": [
    "Snlm = np.zeros((20, 28))\n",
    "Tnlm = np.zeros((20, 28))\n",
    "nmax = 6\n",
    "  \n",
    "Snlm = coeffs_init[1:, Sindex]"
   ]
  },
  {
   "cell_type": "code",
   "execution_count": 65,
   "id": "31203d9f",
   "metadata": {},
   "outputs": [
    {
     "data": {
      "text/plain": [
       "<matplotlib.image.AxesImage at 0x7fdc662bbf70>"
      ]
     },
     "execution_count": 65,
     "metadata": {},
     "output_type": "execute_result"
    },
    {
     "data": {
      "image/png": "[encoded data removed]",
      "text/plain": [
       "<Figure size 432x288 with 1 Axes>"
      ]
     },
     "metadata": {
      "needs_background": "light"
     },
     "output_type": "display_data"
    }
   ],
   "source": [
    "plt.imshow(np.log10(np.abs(Snlm)).T, origin='lower')"
   ]
  },
  {
   "cell_type": "code",
   "execution_count": null,
   "id": "3b74b3d5",
   "metadata": {},
   "outputs": [],
   "source": []
  }
 ],
 "metadata": {
  "kernelspec": {
   "display_name": "Python 3 (ipykernel)",
   "language": "python",
   "name": "python3"
  },
  "language_info": {
   "codemirror_mode": {
    "name": "ipython",
    "version": 3
   },
   "file_extension": ".py",
   "mimetype": "text/x-python",
   "name": "python",
   "nbconvert_exporter": "python",
   "pygments_lexer": "ipython3",
   "version": "3.10.6"
  }
 },
 "nbformat": 4,
 "nbformat_minor": 5
}
