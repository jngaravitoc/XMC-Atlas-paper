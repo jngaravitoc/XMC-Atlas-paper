{
 "cells": [
  {
   "cell_type": "code",
   "execution_count": 1,
   "id": "7051e9df",
   "metadata": {},
   "outputs": [
    {
     "name": "stdout",
     "output_type": "stream",
     "text": [
      "%pylab is deprecated, use %matplotlib inline and import the required libraries.\n",
      "Populating the interactive namespace from numpy and matplotlib\n"
     ]
    }
   ],
   "source": [
    "%pylab inline\n",
    "import matplotlib.pyplot as plt\n",
    "import gala\n",
    "import gala.potential as gp\n",
    "import gala.dynamics as gd"
   ]
  },
  {
   "cell_type": "code",
   "execution_count": 2,
   "id": "b41e519d",
   "metadata": {},
   "outputs": [],
   "source": [
    "def hernquist_density(r, M, a):\n",
    "    return M*a / (2*np.pi) / (r*(r+a)**3)\n",
    "\n",
    "def flattened_hernquist_density(x, y, z, M, a, b, c, rs):\n",
    "    s = np.sqrt((x/a)**2 + (y/b)**2 + (z/c)**2)\n",
    "    return hernquist_density(s, M, rs)"
   ]
  },
  {
   "cell_type": "code",
   "execution_count": 4,
   "id": "f7c327f5",
   "metadata": {},
   "outputs": [],
   "source": [
    "M = 1.\n",
    "rs = 1.\n",
    "a = 1\n",
    "b = 0.5\n",
    "c = 0.5\n",
    "coeff = gp.scf.compute_coeffs(flattened_hernquist_density, nmax=8, lmax=8,\n",
    "                            M=M, r_s=a, args=(M,a, b, c, rs), skip_m=True)\n",
    "(S,Serr),(T,Terr) = coeff"
   ]
  },
  {
   "cell_type": "code",
   "execution_count": 6,
   "id": "62f36d58",
   "metadata": {},
   "outputs": [
    {
     "data": {
      "text/plain": [
       "(9, 9, 9)"
      ]
     },
     "execution_count": 6,
     "metadata": {},
     "output_type": "execute_result"
    }
   ],
   "source": [
    "np.shape(S)"
   ]
  },
  {
   "cell_type": "code",
   "execution_count": null,
   "id": "7be6ba6f",
   "metadata": {},
   "outputs": [],
   "source": []
  }
 ],
 "metadata": {
  "kernelspec": {
   "display_name": "pyexp",
   "language": "python",
   "name": "pyexp"
  },
  "language_info": {
   "codemirror_mode": {
    "name": "ipython",
    "version": 3
   },
   "file_extension": ".py",
   "mimetype": "text/x-python",
   "name": "python",
   "nbconvert_exporter": "python",
   "pygments_lexer": "ipython3",
   "version": "3.9.12"
  }
 },
 "nbformat": 4,
 "nbformat_minor": 5
}
