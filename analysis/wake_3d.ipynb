{
 "cells": [
  {
   "cell_type": "code",
   "execution_count": 1,
   "id": "57bc5662",
   "metadata": {},
   "outputs": [
    {
     "name": "stderr",
     "output_type": "stream",
     "text": [
      "/home/ngc/.local/lib/python3.10/site-packages/matplotlib/projections/__init__.py:63: UserWarning: Unable to import Axes3D. This may be due to multiple versions of Matplotlib being installed (e.g. as a system package and as a pip package). As a result, the 3D projection is not available.\n",
      "  warnings.warn(\"Unable to import Axes3D. This may be due to multiple versions of \"\n"
     ]
    }
   ],
   "source": [
    "import k3d\n",
    "import numpy as np\n",
    "import h5py\n",
    "from ipywidgets import HBox, VBox\n",
    "from IPython.display import display, HTML\n",
    "import matplotlib.pyplot as plt"
   ]
  },
  {
   "cell_type": "code",
   "execution_count": 2,
   "id": "f1cfad8f",
   "metadata": {},
   "outputs": [],
   "source": [
    "#fields = h5py.File('MWLMC5_PC01_fields_reconstruction.h5', 'r')\n",
    "#fields = h5py.File('MWLMC5_PC01_fields_reconstruction.h5', 'r')"
   ]
  },
  {
   "cell_type": "code",
   "execution_count": 3,
   "id": "b98ac76e",
   "metadata": {},
   "outputs": [],
   "source": [
    "fields1 = h5py.File('/home/ngc/Downloads/MWLMC5_PC234_fields_reconstruction_lr.h5', 'r')\n",
    "fields2 = h5py.File('/home/ngc/Downloads/MWLMC5_PC01_fields_reconstruction_lr.h5', 'r')"
   ]
  },
  {
   "cell_type": "code",
   "execution_count": 4,
   "id": "6a64580d",
   "metadata": {},
   "outputs": [],
   "source": [
    "#print(np.shape(wake))"
   ]
  },
  {
   "cell_type": "markdown",
   "id": "87d94092",
   "metadata": {},
   "source": [
    "Wake is a 3d array with the values of the density in each grid point. The density was computed as follows: \n",
    "\n",
    "`\n",
    "rho03d, rhoall3d, grid = EXP_utils.slice_3d_fields(mwbasis, mwcoefs, time=tt[100],                                                        npoints=100, grid_limits=(-300, 300))`\n",
    "\n",
    "`np.savetxt('drho_mwlmc5_b0_exp_wake_t_100.txt'.format(i), \n",
    "            np.array([rho03d.flatten(), rhoall3d.flatten(), grid[0].flatten()]).T)`\n",
    "            "
   ]
  },
  {
   "cell_type": "code",
   "execution_count": 289,
   "id": "88276e27",
   "metadata": {},
   "outputs": [],
   "source": [
    "rho0_1 = fields1['snap_000']['pot0'][:].reshape((50, 50, 50))\n",
    "rhoall_1 = fields1['snap_110']['pot'][:].reshape((50, 50, 50)).T\n",
    "img_1 = (((rho0_1+rhoall_1) / (rho0_1)) - 1) * 7"
   ]
  },
  {
   "cell_type": "code",
   "execution_count": 290,
   "id": "dde819c0",
   "metadata": {},
   "outputs": [],
   "source": [
    "rho0_2 = fields2['snap_000']['pot0'][:].reshape((50, 50, 50))\n",
    "rhoall_2 = fields2['snap_110']['pot'][:].reshape((50, 50, 50)).T\n",
    "img_2 = (((rho0_2+rhoall_2) / (rho0_2)) - 1) * 7"
   ]
  },
  {
   "cell_type": "code",
   "execution_count": 313,
   "id": "b6fd0abe",
   "metadata": {
    "scrolled": true
   },
   "outputs": [],
   "source": [
    "# Contour 1  \n",
    "def get_volume(level):\n",
    "    size = np.array([600, 600, 600])\n",
    "    volume = k3d.volume(\n",
    "        img_1.astype(np.float32), \n",
    "        alpha_coef=level,\n",
    "        color_range=[-0.4, 0.4], \n",
    "        color_map=(np.array(k3d.colormaps.paraview_color_maps.Cool_to_Warm_Extended).reshape(-1,4) \n",
    "                   * np.array([1.0,1.0,1.0,1.0])).astype(np.float32)\n",
    "     )\n",
    "\n",
    "\n",
    "    volume.opacity_function  = [0.        , 0.        , 0.21327923, 0.98025   , 0.32439035,\n",
    "           0.        , 0.5       , 0.        , 0.67560965, 0.        ,\n",
    "           0.74537706, 0.9915    , 1.        , 0.        ]\n",
    "\n",
    "\n",
    "    volume.transform.bounds = [-size[0]/2,size[0]/2,\n",
    "                               -size[1]/2,size[1]/2,\n",
    "                               -size[2]/2,size[2]/2]\n",
    "\n",
    "    return volume \n",
    "\n",
    "\n",
    "volume2 = get_volume(200.0)\n",
    "\n",
    "volume1.color_range = [-0.2, 0.2]\n",
    "volume2.color_range = [-0.8, 0.8]\n",
    "\n",
    "volume3 = get_volume(1.0)\n",
    "volume4 = get_volume(200.0)\n",
    "\n",
    "volume3.color_range = [-0.2, 0.2]\n",
    "volume4.color_range = [-0.4, 0.4]\n",
    "\n",
    "\n"
   ]
  },
  {
   "cell_type": "code",
   "execution_count": 310,
   "id": "a6985dbd",
   "metadata": {},
   "outputs": [],
   "source": [
    "orbit1 = np.loadtxt(\"../data/orbits/LMC5_orbit_satellite.txt\")\n",
    "orbit2 = np.loadtxt(\"../data/orbits/LMC5_orbit_host.txt\")"
   ]
  },
  {
   "cell_type": "code",
   "execution_count": 311,
   "id": "c37eafc7",
   "metadata": {},
   "outputs": [],
   "source": [
    "sat_orbit = orbit1[:,:3] - orbit2[:,:3]"
   ]
  },
  {
   "cell_type": "code",
   "execution_count": 294,
   "id": "5d45d30e",
   "metadata": {},
   "outputs": [
    {
     "data": {
      "text/plain": [
       "[<matplotlib.lines.Line2D at 0x7f2c32ecf0d0>]"
      ]
     },
     "execution_count": 294,
     "metadata": {},
     "output_type": "execute_result"
    },
    {
     "data": {
      "image/png": "[encoded data removed]",
      "text/plain": [
       "<Figure size 432x288 with 1 Axes>"
      ]
     },
     "metadata": {
      "needs_background": "light"
     },
     "output_type": "display_data"
    }
   ],
   "source": [
    "plt.plot(sat_orbit[:40,0], sat_orbit[:40,2])"
   ]
  },
  {
   "cell_type": "code",
   "execution_count": 295,
   "id": "4bfc3ca5",
   "metadata": {},
   "outputs": [
    {
     "name": "stderr",
     "output_type": "stream",
     "text": [
      "/home/ngc/.local/lib/python3.10/site-packages/traittypes/traittypes.py:97: UserWarning: Given trait value dtype \"float64\" does not match required type \"float32\". A coerced copy has been created.\n",
      "  warnings.warn(\n"
     ]
    }
   ],
   "source": [
    "lines = np.zeros((100, 3))\n",
    "lines[:,0] = np.arange(0, 100)\n",
    "\n",
    "plt_streamlines = k3d.line(np.array([sat_orbit[:40,1], sat_orbit[:40,0], sat_orbit[:40,2]]).T, color=0x3f71d8,\n",
    "                           width=0.00007)"
   ]
  },
  {
   "cell_type": "code",
   "execution_count": 314,
   "id": "931bbffd",
   "metadata": {},
   "outputs": [],
   "source": [
    "plot1 = k3d.plot(height=800)\n",
    "plot1 += volume1\n",
    "#plot += volume2\n",
    "plot1 += volume2\n",
    "\n",
    "\n",
    "plot2 = k3d.plot(height=800)\n",
    "plot2 += volume3\n",
    "#plot += volume2\n",
    "plot2 += volume4\n",
    "plot2 += plt_streamlines\n"
   ]
  },
  {
   "cell_type": "code",
   "execution_count": 315,
   "id": "d2f5d97c",
   "metadata": {},
   "outputs": [],
   "source": [
    "plt_tp_text = k3d.text2d('Potential PC 2-3-4, l=1,2',\n",
    "                         position=[0.01, 0.05],\n",
    "                         reference_point='lc',\n",
    "                         is_html=True,\n",
    "                         color=0x3f71d8)"
   ]
  },
  {
   "cell_type": "code",
   "execution_count": 316,
   "id": "67a197b9",
   "metadata": {},
   "outputs": [],
   "source": [
    "#plot += plt_tp_text"
   ]
  },
  {
   "cell_type": "code",
   "execution_count": 317,
   "id": "f16428f5",
   "metadata": {
    "scrolled": true
   },
   "outputs": [
    {
     "data": {
      "application/vnd.jupyter.widget-view+json": {
       "model_id": "c30871b84a724058a076e70653fd1f25",
       "version_major": 2,
       "version_minor": 0
      },
      "text/plain": [
       "Output()"
      ]
     },
     "metadata": {},
     "output_type": "display_data"
    }
   ],
   "source": [
    "plot2.display()\n",
    "\n"
   ]
  },
  {
   "cell_type": "code",
   "execution_count": 318,
   "id": "1c14fe9e",
   "metadata": {},
   "outputs": [
    {
     "ename": "NameError",
     "evalue": "name 'plot' is not defined",
     "output_type": "error",
     "traceback": [
      "\u001b[0;31m---------------------------------------------------------------------------\u001b[0m",
      "\u001b[0;31mNameError\u001b[0m                                 Traceback (most recent call last)",
      "\u001b[0;32m/tmp/ipykernel_56187/2591348941.py\u001b[0m in \u001b[0;36m<module>\u001b[0;34m\u001b[0m\n\u001b[0;32m----> 1\u001b[0;31m \u001b[0mplot\u001b[0m\u001b[0;34m.\u001b[0m\u001b[0mcamera_auto_fit\u001b[0m \u001b[0;34m=\u001b[0m \u001b[0;32mFalse\u001b[0m\u001b[0;34m\u001b[0m\u001b[0;34m\u001b[0m\u001b[0m\n\u001b[0m\u001b[1;32m      2\u001b[0m \u001b[0mplot\u001b[0m\u001b[0;34m.\u001b[0m\u001b[0mlighting\u001b[0m \u001b[0;34m=\u001b[0m \u001b[0;36m1.6\u001b[0m\u001b[0;34m\u001b[0m\u001b[0;34m\u001b[0m\u001b[0m\n",
      "\u001b[0;31mNameError\u001b[0m: name 'plot' is not defined"
     ]
    }
   ],
   "source": [
    "plot.camera_auto_fit = False\n",
    "plot.lighting = 1.6"
   ]
  },
  {
   "cell_type": "code",
   "execution_count": 302,
   "id": "9c19c6ac",
   "metadata": {},
   "outputs": [],
   "source": [
    "psi_t1 = {}\n",
    "title_t = {}\n",
    "\n",
    "psi_t2 = {}\n"
   ]
  },
  {
   "cell_type": "code",
   "execution_count": 303,
   "id": "87d2bd6e",
   "metadata": {},
   "outputs": [],
   "source": [
    "rho0_1 = fields1['snap_000']['pot0'][:].reshape((50, 50, 50))\n",
    "rho0_2 = fields2['snap_000']['pot0'][:].reshape((50, 50, 50))\n",
    "\n",
    "for t in range(0, 300, 7):\n",
    "    rhoall_1 = fields1['snap_{:03d}'.format(t)]['pot'][:].reshape((50, 50, 50)).T\n",
    "    rhoall_2 = fields2['snap_{:03d}'.format(t)]['pot'][:].reshape((50, 50, 50)).T\n",
    "\n",
    "    img1 = (((rho0_1+rhoall_1) / (rho0_1)) - 1 ) * 7\n",
    "    img2 = (((rho0_2+rhoall_2) / (rho0_2)) - 1 ) * 7\n",
    "    \n",
    "    psi_t1[str(float(t))] = img1.astype(np.float32)\n",
    "    psi_t2[str(float(t))] = img2.astype(np.float32)\n",
    "    #title_t[str(float(t))] = img.astype(np.float32)\n",
    "    #plt_tp_text.text = \"time = {:.2f} Gyr\".format(t*.02)\n",
    "    "
   ]
  },
  {
   "cell_type": "code",
   "execution_count": 305,
   "id": "7993acc7",
   "metadata": {},
   "outputs": [],
   "source": [
    "volume1.volume = psi_t1\n",
    "#volume2.volume = psi_t\n",
    "volume2.volume = psi_t1\n",
    "\n",
    "volume3.volume = psi_t2\n",
    "#volume2.volume = psi_t\n",
    "volume4.volume = psi_t2"
   ]
  },
  {
   "cell_type": "code",
   "execution_count": 32,
   "id": "0335213e",
   "metadata": {},
   "outputs": [
    {
     "ename": "TypeError",
     "evalue": "'bool' object is not callable",
     "output_type": "error",
     "traceback": [
      "\u001b[0;31m---------------------------------------------------------------------------\u001b[0m",
      "\u001b[0;31mTypeError\u001b[0m                                 Traceback (most recent call last)",
      "\u001b[0;32m/tmp/ipykernel_15243/97593474.py\u001b[0m in \u001b[0;36m<module>\u001b[0;34m\u001b[0m\n\u001b[1;32m     21\u001b[0m \u001b[0;34m\u001b[0m\u001b[0m\n\u001b[1;32m     22\u001b[0m     \u001b[0;31m# Set the camera for the current step\u001b[0m\u001b[0;34m\u001b[0m\u001b[0;34m\u001b[0m\u001b[0m\n\u001b[0;32m---> 23\u001b[0;31m     \u001b[0mplot\u001b[0m\u001b[0;34m.\u001b[0m\u001b[0mcamera_auto_fit\u001b[0m\u001b[0;34m(\u001b[0m\u001b[0mpadding\u001b[0m\u001b[0;34m=\u001b[0m\u001b[0;36m0.2\u001b[0m\u001b[0;34m,\u001b[0m \u001b[0mposition\u001b[0m\u001b[0;34m=\u001b[0m\u001b[0mcamera_position\u001b[0m\u001b[0;34m,\u001b[0m \u001b[0mtarget\u001b[0m\u001b[0;34m=\u001b[0m\u001b[0mcamera_target\u001b[0m\u001b[0;34m)\u001b[0m\u001b[0;34m\u001b[0m\u001b[0;34m\u001b[0m\u001b[0m\n\u001b[0m\u001b[1;32m     24\u001b[0m \u001b[0;34m\u001b[0m\u001b[0m\n\u001b[1;32m     25\u001b[0m     \u001b[0;31m# Display the plot\u001b[0m\u001b[0;34m\u001b[0m\u001b[0;34m\u001b[0m\u001b[0m\n",
      "\u001b[0;31mTypeError\u001b[0m: 'bool' object is not callable"
     ]
    }
   ],
   "source": [
    "# Camera initial position and target\n",
    "initial_camera_position = (0, 0, 0)  # Replace x1, y1, z1 with initial camera position coordinates\n",
    "initial_camera_target = (10, 10, 10)  # Replace tx1, ty1, tz1 with initial target coordinates\n",
    "\n",
    "# Camera final position and target\n",
    "final_camera_position = (0, 0, 0)  # Replace x2, y2, z2 with final camera position coordinates\n",
    "final_camera_target = (10, 10, 10)  # Replace tx2, ty2, tz2 with final target coordinates\n",
    "\n",
    "# Number of animation steps\n",
    "num_steps = 100\n",
    "\n",
    "# Calculate the step size for camera position and target\n",
    "camera_position_step = [(final - initial) / num_steps for initial, final in zip(initial_camera_position, final_camera_position)]\n",
    "camera_target_step = [(final - initial) / num_steps for initial, final in zip(initial_camera_target, final_camera_target)]\n",
    "\n",
    "# Animate the camera rotation\n",
    "for step in range(num_steps + 1):\n",
    "    # Calculate the new camera position and target for the current step\n",
    "    camera_position = [initial + step_size * step for initial, step_size in zip(initial_camera_position, camera_position_step)]\n",
    "    camera_target = [initial + step_size * step for initial, step_size in zip(initial_camera_target, camera_target_step)]\n",
    "\n",
    "    # Set the camera for the current step\n",
    "    plot.camera_auto_fit(padding=0.2, position=camera_position, target=camera_target)\n",
    "\n",
    "    # Display the plot\n",
    "    display(plot)\n",
    "\n",
    "    # Optional: Add a short delay to control the animation speed\n",
    "    time.sleep(0.05)\n",
    "\n",
    "# Clear the output cell after the animation is done\n",
    "display(plot)\n",
    "\n"
   ]
  },
  {
   "cell_type": "code",
   "execution_count": 29,
   "id": "b54c58d0",
   "metadata": {},
   "outputs": [],
   "source": [
    "plot.start_auto_play()"
   ]
  },
  {
   "cell_type": "code",
   "execution_count": 28,
   "id": "12c6a010",
   "metadata": {},
   "outputs": [],
   "source": [
    "with open('potential_PC234_l01.html','w') as fp:\n",
    "    fp.write(plot.get_snapshot())"
   ]
  },
  {
   "cell_type": "code",
   "execution_count": 16,
   "id": "7372126b",
   "metadata": {},
   "outputs": [
    {
     "name": "stdout",
     "output_type": "stream",
     "text": [
      "/home/ngc/Work/research/time-dependent-BFE/notebook\r\n"
     ]
    }
   ],
   "source": [
    "!pwd"
   ]
  },
  {
   "cell_type": "code",
   "execution_count": null,
   "id": "39a7e6ed",
   "metadata": {},
   "outputs": [],
   "source": []
  }
 ],
 "metadata": {
  "kernelspec": {
   "display_name": "Python 3 (ipykernel)",
   "language": "python",
   "name": "python3"
  },
  "language_info": {
   "codemirror_mode": {
    "name": "ipython",
    "version": 3
   },
   "file_extension": ".py",
   "mimetype": "text/x-python",
   "name": "python",
   "nbconvert_exporter": "python",
   "pygments_lexer": "ipython3",
   "version": "3.10.12"
  }
 },
 "nbformat": 4,
 "nbformat_minor": 5
}
