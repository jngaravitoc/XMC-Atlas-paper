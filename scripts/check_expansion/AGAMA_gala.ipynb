{
 "cells": [
  {
   "cell_type": "markdown",
   "id": "596e6951",
   "metadata": {},
   "source": [
    "## Todo:\n",
    "- install AGAMA and test potential differences w.r.t Gala"
   ]
  },
  {
   "cell_type": "code",
   "execution_count": 60,
   "id": "f06133d0",
   "metadata": {},
   "outputs": [
    {
     "name": "stdout",
     "output_type": "stream",
     "text": [
      "%pylab is deprecated, use %matplotlib inline and import the required libraries.\n",
      "Populating the interactive namespace from numpy and matplotlib\n"
     ]
    },
    {
     "name": "stderr",
     "output_type": "stream",
     "text": [
      "/mnt/home/nico/projects/time-dependent-BFE/pyexp/lib/python3.9/site-packages/IPython/core/magics/pylab.py:162: UserWarning: pylab import has clobbered these variables: ['grid']\n",
      "`%matplotlib` prevents importing * from pylab and numpy\n",
      "  warn(\"pylab import has clobbered these variables: %s\"  % clobbered +\n"
     ]
    }
   ],
   "source": [
    "import numpy as np\n",
    "import matplotlib.pyplot as plt\n",
    "import gala\n",
    "import gala.potential as gp\n",
    "import gala.dynamics as gd\n",
    "\n",
    "import sys\n",
    "sys.path.append(\"../../bfe_integrator/src/bfe_tools/\")\n",
    "from read_coefficients import load_scf_coefficients\n",
    "import astropy.units as u\n",
    "plt.style.use('~/matplotlib.mplstyle')\n",
    "import agama\n",
    "\n",
    "%pylab inline"
   ]
  },
  {
   "cell_type": "code",
   "execution_count": null,
   "id": "f7e784bd",
   "metadata": {},
   "outputs": [],
   "source": []
  },
  {
   "cell_type": "code",
   "execution_count": 5,
   "id": "618a1e72",
   "metadata": {},
   "outputs": [],
   "source": [
    "# \n",
    "# path to coeff\n",
    "\n",
    "v23_L2M10_path = '../../data/expansion/vasiliev23/L2M10/'\n",
    "v23_L2M10_scf = np.loadtxt(v23_L2M10_path + 'lmc000.ini', skiprows=10)"
   ]
  },
  {
   "cell_type": "code",
   "execution_count": 6,
   "id": "43036025",
   "metadata": {},
   "outputs": [],
   "source": [
    "r = v23_L2M10_scf[:,0]\n",
    "nmax = 20\n",
    "lmax = 6"
   ]
  },
  {
   "cell_type": "code",
   "execution_count": 41,
   "id": "7949413f",
   "metadata": {},
   "outputs": [],
   "source": [
    "v23_L2M10_Snlm = np.zeros((nmax+1, lmax+1, lmax+1))\n",
    "v23_L2M10_Tnlm = np.zeros((nmax+1, lmax+1, lmax+1))"
   ]
  },
  {
   "cell_type": "code",
   "execution_count": 42,
   "id": "944a510f",
   "metadata": {},
   "outputs": [],
   "source": [
    "## Looping over coefficients\n",
    "for n in range(nmax+1):\n",
    "    for l in range(lmax+1):\n",
    "        j=1\n",
    "        for m in range(-l, l+1):\n",
    "            if m<0:\n",
    "                v23_L2M10_Tnlm[n, l+m, m] = v23_L2M10_scf[n, j] / 0.5**(0.5 if m>0 else 1)\n",
    "            else: \n",
    "                v23_L2M10_Snlm[n, l, m] = v23_L2M10_scf[n, j] / 0.5**(0.5)\n",
    "            j+=1"
   ]
  },
  {
   "cell_type": "code",
   "execution_count": 43,
   "id": "f1d3f30f",
   "metadata": {},
   "outputs": [
    {
     "data": {
      "text/plain": [
       "<matplotlib.image.AxesImage at 0x7f4d070e85e0>"
      ]
     },
     "execution_count": 43,
     "metadata": {},
     "output_type": "execute_result"
    },
    {
     "data": {
      "image/png": "[encoded data removed]",
      "text/plain": [
       "<Figure size 600x420 with 1 Axes>"
      ]
     },
     "metadata": {},
     "output_type": "display_data"
    }
   ],
   "source": [
    "plt.imshow(np.log10(np.abs(v23_L2M10_Snlm[:,:,0])).T, origin='lower')"
   ]
  },
  {
   "cell_type": "code",
   "execution_count": 44,
   "id": "f2cb1e5e",
   "metadata": {},
   "outputs": [
    {
     "name": "stderr",
     "output_type": "stream",
     "text": [
      "/tmp/ipykernel_736494/2041113353.py:1: RuntimeWarning: divide by zero encountered in log10\n",
      "  plt.imshow(np.log10(np.abs(v23_L2M10_Tnlm[:,:,3])).T, origin='lower')\n"
     ]
    },
    {
     "data": {
      "text/plain": [
       "<matplotlib.image.AxesImage at 0x7f4d0703f8e0>"
      ]
     },
     "execution_count": 44,
     "metadata": {},
     "output_type": "execute_result"
    },
    {
     "data": {
      "image/png": "[encoded data removed]",
      "text/plain": [
       "<Figure size 600x420 with 1 Axes>"
      ]
     },
     "metadata": {},
     "output_type": "display_data"
    }
   ],
   "source": [
    "plt.imshow(np.log10(np.abs(v23_L2M10_Tnlm[:,:,3])).T, origin='lower')"
   ]
  },
  {
   "cell_type": "code",
   "execution_count": null,
   "id": "154f5e4a",
   "metadata": {},
   "outputs": [],
   "source": [
    "# AGAMA's  coefficients path "
   ]
  },
  {
   "cell_type": "code",
   "execution_count": 83,
   "id": "369826db",
   "metadata": {},
   "outputs": [],
   "source": [
    "lmc_traj = np.loadtxt('../../data/expansion/vasiliev23/L2M10/trajlmc.txt')"
   ]
  },
  {
   "cell_type": "code",
   "execution_count": null,
   "id": "d9e3f4b0",
   "metadata": {},
   "outputs": [],
   "source": [
    "mw_traj = np.loadtxt('../../data/expansion/vasiliev23/L2M10/trajlmc.txt')"
   ]
  },
  {
   "cell_type": "code",
   "execution_count": 76,
   "id": "6ca5ad0b",
   "metadata": {},
   "outputs": [],
   "source": [
    "lmc_pot = agama.Potential('../../data/expansion/vasiliev23/L2M10/lmc029.ini')\n",
    "mw_pot = agama.Potential('../../data/expansion/vasiliev23/L2M10/mwhalo029.ini')"
   ]
  },
  {
   "cell_type": "code",
   "execution_count": null,
   "id": "56c00fc9",
   "metadata": {},
   "outputs": [],
   "source": []
  },
  {
   "cell_type": "code",
   "execution_count": 78,
   "id": "9915f078",
   "metadata": {},
   "outputs": [],
   "source": [
    "almc = lmc_pot.force(np.array([np.zeros(len(y_grid.flatten())), y_grid.flatten(), z_grid.flatten()]).T)"
   ]
  },
  {
   "cell_type": "code",
   "execution_count": 81,
   "id": "30cee1ab",
   "metadata": {},
   "outputs": [],
   "source": [
    "amw = mw_pot.force(np.array([np.zeros(len(y_grid.flatten())), y_grid.flatten(), z_grid.flatten()]).T)"
   ]
  },
  {
   "cell_type": "code",
   "execution_count": 79,
   "id": "c8b54f4b",
   "metadata": {},
   "outputs": [
    {
     "data": {
      "text/plain": [
       "(90000, 3)"
      ]
     },
     "execution_count": 79,
     "metadata": {},
     "output_type": "execute_result"
    }
   ],
   "source": [
    "np.shape(almc)"
   ]
  },
  {
   "cell_type": "code",
   "execution_count": null,
   "id": "cbd58022",
   "metadata": {},
   "outputs": [],
   "source": []
  }
 ],
 "metadata": {
  "kernelspec": {
   "display_name": "pyexp",
   "language": "python",
   "name": "pyexp"
  },
  "language_info": {
   "codemirror_mode": {
    "name": "ipython",
    "version": 3
   },
   "file_extension": ".py",
   "mimetype": "text/x-python",
   "name": "python",
   "nbconvert_exporter": "python",
   "pygments_lexer": "ipython3",
   "version": "3.9.12"
  }
 },
 "nbformat": 4,
 "nbformat_minor": 5
}
