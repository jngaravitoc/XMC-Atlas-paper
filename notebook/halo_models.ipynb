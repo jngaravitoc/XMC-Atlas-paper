{
 "cells": [
  {
   "cell_type": "markdown",
   "id": "53d9f99d",
   "metadata": {},
   "source": [
    "# Halo structural parameters definitions and conversions\n",
    "\n",
    "This notebook goes trough different conversion of structural halo parameters. We will mainly focus on the NFW and Hernquist halos, but can easily be generalized to other halos. "
   ]
  },
  {
   "cell_type": "code",
   "execution_count": 14,
   "id": "36771574",
   "metadata": {},
   "outputs": [
    {
     "name": "stdout",
     "output_type": "stream",
     "text": [
      "Populating the interactive namespace from numpy and matplotlib\n"
     ]
    }
   ],
   "source": [
    "%pylab inline\n",
    "import nba\n",
    "from astropy import units as u\n",
    "plt.style.use('~/Work/research/MW_viz/matplotlib.mplstyle')\n",
    "import gala.potential as gp\n",
    "from gala.units import galactic"
   ]
  },
  {
   "cell_type": "markdown",
   "id": "2bcff827",
   "metadata": {},
   "source": [
    "Let's first define the main structural quantities and define the notation used here. \n",
    "several quantities are defined with respect to the averange density of the Univese. The average matter density of the Universe $\\bar{\\rho} = \\rho_{crit} \\Omega_m$, where $\\rho_{crit}$ is the critical density of the Universe and $\\Omega_m$ is the dark matter density of the universe.\n",
    "\n",
    "\\begin{equation}\n",
    "\\rho_{crit} = \\frac{3H_0^2}{8\\pi G}\n",
    "\\end{equation}\n",
    "\n",
    "## Virial quantities \n",
    "\n",
    "Virial quantities are defined as the region that encloses:\n",
    "\n",
    "\\begin{equation}\n",
    "\\bar{\\rho}_{vir} = \\Delta_{vir} \\Omega_m \\rho_{crit}\n",
    "\\end{equation}\n",
    "\n",
    "Where the virial density can be computed from the top-hat model $\\Delta_{vir} \\approx 18 \\pi^2 + 82 x - 39 x^2$; $x = \\Omega_m (Z) - 1$  within a spherical region that is $\\Delta_{vir}$ times denser that the average matter density of the Universe; $\\bar{\\rho} = \\rho_{crit} \\Omega_m$, where $\\rho_{crit}$ is the critical density of the Universe and $\\Omega_m$ is the dark matter density of the universe.\n",
    "\n",
    "## 200 quantities \n",
    "\n",
    "Similarly, structural quantities are defined as a region that encloses 200 times the critical density of the universe: \n",
    "\n",
    "\\begin{equation}\n",
    "\\bar{\\rho}_{200} = 200 \\rho_{crit}\n",
    "\\end{equation}\n",
    "\n",
    "\n",
    "|Quantity | Definitation | reference|  \n",
    "|----| ------ | -----| \n",
    "| $M_{vir}$      |  |  \n",
    "| $M_{200c}$ |  |\n",
    "| $R_{vir}$  | |\n",
    "| $R_{200c}$ | |"
   ]
  },
  {
   "cell_type": "markdown",
   "id": "c035e144",
   "metadata": {},
   "source": [
    "We can now take a look at how these quantities evolved as a function of redshift. \n",
    "In the plots below we can see the redshift evolution of $\\Omega_m$, $\\Delta_{vir}$, and the prduct of both quantites.\n"
   ]
  },
  {
   "cell_type": "code",
   "execution_count": 2,
   "id": "d38ecb5a",
   "metadata": {},
   "outputs": [],
   "source": [
    "cosmo = nba.cosmology.Cosmology()"
   ]
  },
  {
   "cell_type": "code",
   "execution_count": 3,
   "id": "6dc65e20",
   "metadata": {},
   "outputs": [],
   "source": [
    "z = np.linspace(0, 10, 1000)\n",
    "Omega_mz = cosmo.Omega_z(z)\n",
    "Delta_vir = cosmo.Dvir(z)"
   ]
  },
  {
   "cell_type": "code",
   "execution_count": 4,
   "id": "917915a5",
   "metadata": {},
   "outputs": [
    {
     "data": {
      "text/plain": [
       "Text(0.5, 0, '$z$')"
      ]
     },
     "execution_count": 4,
     "metadata": {},
     "output_type": "execute_result"
    },
    {
     "data": {
      "image/png": "[encoded data removed]",
      "text/plain": [
       "<Figure size 1152x288 with 3 Axes>"
      ]
     },
     "metadata": {
      "needs_background": "light"
     },
     "output_type": "display_data"
    }
   ],
   "source": [
    "\n",
    "fig, ax = plt.subplots(1, 3, figsize=(16, 4))\n",
    "ax[0].plot(z, Omega_mz)\n",
    "ax[1].plot(z, Delta_vir)\n",
    "ax[2].plot(z, Delta_vir*Omega_mz)\n",
    "ax[0].set_ylabel('$\\Omega_m(z)$')\n",
    "ax[1].set_ylabel('$\\Delta_{vir}(z)$')\n",
    "ax[2].set_ylabel(r'$\\Omega_m(z) \\times \\Delta_{vir}(z)$')\n",
    "ax[0].set_xlabel('$z$')\n",
    "ax[1].set_xlabel('$z$')\n",
    "ax[2].set_xlabel('$z$')\n"
   ]
  },
  {
   "cell_type": "markdown",
   "id": "d9b1f152",
   "metadata": {},
   "source": [
    "Of course these structural quantities would depend on the density profile of the halo. \n",
    "For the NFW halo:\n",
    "\n",
    "\\begin{equation}\n",
    "\\rho_{\\rm{NFW}}(r) = \\dfrac{\\rho_s}{r/r_s (1+r/r_s)^2}\n",
    "\\end{equation}\n",
    "\n",
    "While for the a Hernquist halo we have: \n",
    "\n",
    "\\begin{equation}\n",
    "\\rho_{\\rm{Hern}}(r) = \\dfrac{\\rho_s}{r/r_s (1+r/r_s)^3}\n",
    "\\end{equation}\n",
    "\n",
    "Where $\\rho_s$ and $r_s$ are free parameters. Similary the total mass of these halos are: \n",
    "\n",
    "\n",
    "\\begin{equation}\n",
    "M_{\\rm{NFW}}(r) = 4 \\pi a^3 \\rho_s \\left( {\\rm{ln}}(1+r/r_s) -  \\dfrac{r/r_s}{2 (1+r/r_s)} \\right)\n",
    "\\end{equation}\n",
    "\n",
    "\n",
    "\\begin{equation}\n",
    "M_{\\rm{NFW}}(r) = 4 \\pi a^3 \\rho_s f(x)\n",
    "\\end{equation}\n",
    "\n",
    "Where $f(x) =  {\\rm{ln}}(1+x) -  \\dfrac{x}{(1+x)}$ and  $x=r/r_s$\n",
    "\n",
    "\n",
    "\n",
    "\\begin{equation}\n",
    "M_{\\rm{Hern}}(r) = M_{H} \\dfrac{(r/r_s)^2}{(1+r/r_s)^2}\n",
    "\\end{equation}\n",
    "\n",
    "For the Hernquist profile, the total mass converges to M_{H} when $r->\\infty$, while for the NFW profile, \n",
    "the mass goes to $\\infty$ as $ln (1+r/r_s)$. Thus, for the NFW profile once needs to define a Mass at a given radius.  \n",
    "It is convenient to define these quantities with respect to a \"standard\" quantity. The common \n",
    "choice are either the virial and 200 radius.  \n",
    "\n",
    "\n",
    "| Quantity | Definition |\n",
    "| ----- | ----- |\n",
    "| $M_{\\rm{Hern}}$     | Total mass of the Hernquist model |\n",
    "| $M_{\\rm{NFW}}$      | Total mass of the NFW model |\n",
    "| $r_s$       | Scale length of the NFW halo |\n",
    "| $a$         | Scale length of the Hernquist halo |\n",
    "| $c_x$       | Concentration at radius x |\n"
   ]
  },
  {
   "cell_type": "markdown",
   "id": "4949e8f9",
   "metadata": {},
   "source": [
    "Let's define a halo with the following virial quantities: "
   ]
  },
  {
   "cell_type": "code",
   "execution_count": 5,
   "id": "8fb74cf9",
   "metadata": {},
   "outputs": [
    {
     "name": "stdout",
     "output_type": "stream",
     "text": [
      "261.46813948044354 kpc solMass(1/3)\n",
      "26.146813948044354 kpc solMass(1/3)\n"
     ]
    }
   ],
   "source": [
    "\n",
    "Mvir = 1e12 * u.Msun\n",
    "cvir = 10\n",
    "rvir = cosmo.rvir(Mvir, z=0)\n",
    "print(rvir)\n",
    "rs = rvir / cvir\n",
    "print(rs)"
   ]
  },
  {
   "cell_type": "code",
   "execution_count": 10,
   "id": "177c30eb",
   "metadata": {},
   "outputs": [],
   "source": [
    "# \n",
    "M200, c200 = cosmo.NFW_200(Mvir, cvir, z=0)"
   ]
  },
  {
   "cell_type": "code",
   "execution_count": 35,
   "id": "22f2c6cf",
   "metadata": {},
   "outputs": [],
   "source": [
    "r200 = c200 * rs"
   ]
  },
  {
   "cell_type": "code",
   "execution_count": 39,
   "id": "704edb9d",
   "metadata": {},
   "outputs": [
    {
     "name": "stdout",
     "output_type": "stream",
     "text": [
      "838386582687.5615 solMass 7.408721676838023 193.71446727712697 kpc solMass(1/3)\n"
     ]
    }
   ],
   "source": [
    "print(M200, c200, r200)"
   ]
  },
  {
   "cell_type": "code",
   "execution_count": 40,
   "id": "f65a0455",
   "metadata": {},
   "outputs": [
    {
     "name": "stdout",
     "output_type": "stream",
     "text": [
      "26.146813948044354 kpc solMass(1/3) 26.146813948044354 kpc solMass(1/3)\n"
     ]
    }
   ],
   "source": [
    "print(rvir/cvir, r200/c200)"
   ]
  },
  {
   "cell_type": "markdown",
   "id": "2a4720df",
   "metadata": {},
   "source": [
    "The correspondeing NFW mass is related to $M_{vir}$ and $M_{200}$: \n",
    "    \n",
    "$M_{NFW} = M_{vir} / f(c_vir) = M_{200} / f(c_{200})$"
   ]
  },
  {
   "cell_type": "code",
   "execution_count": 45,
   "id": "86b34146",
   "metadata": {},
   "outputs": [],
   "source": [
    "def NFW_Mscale(mass_x, c_x):\n",
    "    \"\"\"\n",
    "    Function to compute the scale mass of an NFW halo\n",
    "    \n",
    "    Parameters:\n",
    "    \n",
    "    mass_x : scalar:\n",
    "        Enclosed mass at radius x\n",
    "    c_x : scalar\n",
    "        Concentrarion at radius x\n",
    "    \n",
    "    Wehre x could be any distance for example r200 or rvir\n",
    "    \n",
    "    \"\"\"\n",
    "    fx = np.log(1.0 + c_x) - (c_x / (1.0 + c_x))\n",
    "    return mass_x / fx\n"
   ]
  },
  {
   "cell_type": "code",
   "execution_count": 48,
   "id": "f63e4825",
   "metadata": {},
   "outputs": [
    {
     "name": "stdout",
     "output_type": "stream",
     "text": [
      "0.6716799227467151 solMass\n"
     ]
    }
   ],
   "source": [
    "MNFW = NFW_Mscale(Mvir, cvir)\n",
    "print(MNFW/1e12)"
   ]
  },
  {
   "cell_type": "code",
   "execution_count": 49,
   "id": "26717c9e",
   "metadata": {},
   "outputs": [],
   "source": [
    "NFW_halo = gp.NFWPotential(MNFW, r_s=26.14*u.kpc, units=galactic)"
   ]
  },
  {
   "cell_type": "code",
   "execution_count": 50,
   "id": "2779133b",
   "metadata": {},
   "outputs": [],
   "source": [
    "xyz = np.zeros((100, 3))\n",
    "xyz[:,0] = np.linspace(0.01, 300, 100)"
   ]
  },
  {
   "cell_type": "code",
   "execution_count": 55,
   "id": "84956b69",
   "metadata": {},
   "outputs": [
    {
     "data": {
      "text/plain": [
       "<matplotlib.lines.Line2D at 0x7f52bd40cbb0>"
      ]
     },
     "execution_count": 55,
     "metadata": {},
     "output_type": "execute_result"
    },
    {
     "data": {
      "image/png": "[encoded data removed]",
      "text/plain": [
       "<Figure size 432x302.4 with 1 Axes>"
      ]
     },
     "metadata": {
      "needs_background": "light"
     },
     "output_type": "display_data"
    }
   ],
   "source": [
    "plt.plot(xyz[:,0], NFW_halo.mass_enclosed(xyz.T))\n",
    "plt.grid()\n",
    "plt.axhline(MNFW.value, c='k', lw=1, ls=':')\n",
    "plt.axhline(M200.value, c='k', lw=1, ls='-.')\n",
    "plt.axhline(Mvir.value, c='k', lw=1, ls='--')"
   ]
  },
  {
   "cell_type": "markdown",
   "id": "1b563be6",
   "metadata": {},
   "source": [
    "For the Hernquist halo we have:"
   ]
  },
  {
   "cell_type": "code",
   "execution_count": 75,
   "id": "461ac936",
   "metadata": {},
   "outputs": [],
   "source": [
    "# \n",
    "def Mhern(Mx, Rx, Rs):\n",
    "    fx =  (Rx/Rs)**2 / (1+(Rx/Rs))**2\n",
    "    Mh = Mx*fx\n",
    "    return Mh"
   ]
  },
  {
   "cell_type": "code",
   "execution_count": 76,
   "id": "80fa0a8d",
   "metadata": {},
   "outputs": [
    {
     "name": "stdout",
     "output_type": "stream",
     "text": [
      "826446280991.7356 solMass\n"
     ]
    }
   ],
   "source": [
    "Mh = Mhern(Mvir, rvir, rs)\n",
    "print(Mh)"
   ]
  },
  {
   "cell_type": "code",
   "execution_count": 77,
   "id": "51b5a508",
   "metadata": {},
   "outputs": [
    {
     "name": "stdout",
     "output_type": "stream",
     "text": [
      "650835035372.2233 solMass\n"
     ]
    }
   ],
   "source": [
    "Mh = Mhern(M200, r200, rs)\n",
    "print(Mh)"
   ]
  },
  {
   "cell_type": "code",
   "execution_count": 66,
   "id": "ca3ec49b",
   "metadata": {},
   "outputs": [],
   "source": [
    "Hern_halo = gp.HernquistPotential(Mh, rs.value*u.kpc, units=galactic)"
   ]
  },
  {
   "cell_type": "code",
   "execution_count": 69,
   "id": "915c5c69",
   "metadata": {},
   "outputs": [
    {
     "data": {
      "image/png": "[encoded data removed]",
      "text/plain": [
       "<Figure size 432x302.4 with 1 Axes>"
      ]
     },
     "metadata": {
      "needs_background": "light"
     },
     "output_type": "display_data"
    }
   ],
   "source": [
    "plt.plot(xyz[:,0], Hern_halo.mass_enclosed(xyz.T), label='Hernquist')\n",
    "plt.plot(xyz[:,0], NFW_halo.mass_enclosed(xyz.T), lw=1, label='NFW')\n",
    "plt.legend()\n",
    "plt.grid()\n"
   ]
  },
  {
   "cell_type": "code",
   "execution_count": 9,
   "id": "09f9eab5",
   "metadata": {},
   "outputs": [
    {
     "data": {
      "text/latex": [
       "$6.7167992 \\times 10^{11} \\; \\mathrm{M_{\\odot}}$"
      ],
      "text/plain": [
       "<Quantity 6.71679923e+11 solMass>"
      ]
     },
     "execution_count": 9,
     "metadata": {},
     "output_type": "execute_result"
    }
   ],
   "source": [
    "NFW_Mscale(Mvir, cvir) "
   ]
  },
  {
   "cell_type": "code",
   "execution_count": 11,
   "id": "c20fb621",
   "metadata": {},
   "outputs": [
    {
     "data": {
      "text/latex": [
       "$6.7167992 \\times 10^{11} \\; \\mathrm{M_{\\odot}}$"
      ],
      "text/plain": [
       "<Quantity 6.71679923e+11 solMass>"
      ]
     },
     "execution_count": 11,
     "metadata": {},
     "output_type": "execute_result"
    }
   ],
   "source": [
    "NFW_Mscale(M200, c200) "
   ]
  },
  {
   "cell_type": "code",
   "execution_count": null,
   "id": "333cc64e",
   "metadata": {},
   "outputs": [],
   "source": [
    "Mnfw_halo_S21 = 7.92e11\n",
    "c_halo_S21 = 15.3\n",
    "r_s_halo_S21 = 12.8 * u.kpc"
   ]
  },
  {
   "cell_type": "code",
   "execution_count": 5,
   "id": "d2198b78",
   "metadata": {},
   "outputs": [],
   "source": [
    "Mvir, rvir = nba.cosmology.NFW_virial(1E12, 260/15)"
   ]
  },
  {
   "cell_type": "code",
   "execution_count": 7,
   "id": "f0ea639a",
   "metadata": {},
   "outputs": [
    {
     "data": {
      "text/plain": [
       "0.5093552382409597"
      ]
     },
     "execution_count": 7,
     "metadata": {},
     "output_type": "execute_result"
    }
   ],
   "source": [
    "NFW_Mscale(1e12, 260/15) /1e12"
   ]
  },
  {
   "cell_type": "code",
   "execution_count": 2,
   "id": "da1df56d",
   "metadata": {},
   "outputs": [],
   "source": [
    "nba.cosmology.NFW_virial?"
   ]
  },
  {
   "cell_type": "code",
   "execution_count": 9,
   "id": "f8c728f4",
   "metadata": {},
   "outputs": [
    {
     "data": {
      "text/plain": [
       "0.4275269485269452"
      ]
     },
     "execution_count": 9,
     "metadata": {},
     "output_type": "execute_result"
    }
   ],
   "source": [
    "NFW_Mscale(7.92e11, 15.3)/1E12"
   ]
  },
  {
   "cell_type": "code",
   "execution_count": 3,
   "id": "8faba91f",
   "metadata": {},
   "outputs": [],
   "source": [
    "MHern_GC23 = 1.57e12 "
   ]
  },
  {
   "cell_type": "code",
   "execution_count": null,
   "id": "0f2260d9",
   "metadata": {},
   "outputs": [],
   "source": []
  }
 ],
 "metadata": {
  "kernelspec": {
   "display_name": "Python 3 (ipykernel)",
   "language": "python",
   "name": "python3"
  },
  "language_info": {
   "codemirror_mode": {
    "name": "ipython",
    "version": 3
   },
   "file_extension": ".py",
   "mimetype": "text/x-python",
   "name": "python",
   "nbconvert_exporter": "python",
   "pygments_lexer": "ipython3",
   "version": "3.10.12"
  }
 },
 "nbformat": 4,
 "nbformat_minor": 5
}
